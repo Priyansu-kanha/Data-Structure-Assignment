{
 "cells": [
  {
   "cell_type": "code",
   "execution_count": 1,
   "metadata": {},
   "outputs": [
    {
     "data": {
      "text/plain": [
       "'usnayirp'"
      ]
     },
     "execution_count": 1,
     "metadata": {},
     "output_type": "execute_result"
    }
   ],
   "source": [
    "# 1. Write a code to reverse a string ?\n",
    "name = 'priyansu'\n",
    "name[ : :-1]"
   ]
  },
  {
   "cell_type": "code",
   "execution_count": 2,
   "metadata": {},
   "outputs": [
    {
     "name": "stdout",
     "output_type": "stream",
     "text": [
      "2\n"
     ]
    }
   ],
   "source": [
    "# 2. Write a code to count no of vowels in a string ?\n",
    "Fruit = 'Mango'\n",
    "# count no of vowels\n",
    "count = 0\n",
    "for i in Fruit:\n",
    "    if ( i == 'a'or i =='e'or i == 'i'or i == 'o'or i == 'u' ):\n",
    "        count += 1\n",
    "print (count)"
   ]
  },
  {
   "cell_type": "code",
   "execution_count": 3,
   "metadata": {},
   "outputs": [
    {
     "name": "stdin",
     "output_type": "stream",
     "text": [
      "INPUT YOUR STRING :  Apple\n"
     ]
    },
    {
     "name": "stdout",
     "output_type": "stream",
     "text": [
      "String is not pallendrome\n"
     ]
    }
   ],
   "source": [
    "# 3. write a code to check if a given string is a pallendrome or not ?\n",
    "string = input(\"INPUT YOUR STRING : \")\n",
    "Len = len(string)\n",
    "i = 0\n",
    "count = 0\n",
    "while(i < Len/2):\n",
    "    if (string[i] == string[Len-1-i]):\n",
    "        count += 1\n",
    "    else:\n",
    "        break\n",
    "    i += 1\n",
    "if(count == Len/2):\n",
    "    print('String is pallendrome')\n",
    "else:\n",
    "    print('String is not pallendrome')"
   ]
  },
  {
   "cell_type": "code",
   "execution_count": 6,
   "metadata": {},
   "outputs": [
    {
     "name": "stdin",
     "output_type": "stream",
     "text": [
      "Your String1 :  Tisa\n",
      "Your String2 :  Sita\n"
     ]
    },
    {
     "name": "stdout",
     "output_type": "stream",
     "text": [
      "Strings are anagrams\n"
     ]
    }
   ],
   "source": [
    "# 4 . write a code to check if two given strings are anagrams of each other ?\n",
    "str1 = input(\"Your String1 : \")\n",
    "str2 = input(\"Your String2 : \")\n",
    "if(sorted(str1.lower()) == sorted(str2.lower())):\n",
    "    print(\"Strings are anagrams\")\n",
    "else:\n",
    "    print(\"Strings are not anagrams\")"
   ]
  },
  {
   "cell_type": "code",
   "execution_count": 7,
   "metadata": {},
   "outputs": [
    {
     "name": "stdin",
     "output_type": "stream",
     "text": [
      "Your SubString :  Cat\n",
      "Your String :  Acting\n"
     ]
    },
    {
     "name": "stdout",
     "output_type": "stream",
     "text": [
      "SubString is in String\n"
     ]
    }
   ],
   "source": [
    "# 5 . write a code to find all occurance of a given substring within another string ?\n",
    "Substr = input(\"Your SubString : \")\n",
    "Str = input(\"Your String : \")\n",
    "Str1 = Substr.lower()\n",
    "Str2 = Str.lower()\n",
    "i = 0\n",
    "Count = 0\n",
    "while ( i < len(Str1)):\n",
    "    if(Str1[i] in Str2):\n",
    "        Count += 1\n",
    "    i += 1\n",
    "if(Count == len(Str1)):\n",
    "    print(\"SubString is in String\")\n",
    "else:\n",
    "    print(\"SubString is not in String\")\n",
    "          "
   ]
  },
  {
   "cell_type": "code",
   "execution_count": 8,
   "metadata": {},
   "outputs": [
    {
     "name": "stdin",
     "output_type": "stream",
     "text": [
      "Your String :  Apple\n"
     ]
    },
    {
     "name": "stdout",
     "output_type": "stream",
     "text": [
      "Your Compressed String :  Aple\n"
     ]
    }
   ],
   "source": [
    "# 6 . write a code to perform basic string compression using the counts of repeated characters ?\n",
    "Str1 = input(\"Your String : \")\n",
    "Str2 = \"\"\n",
    "i = 0\n",
    "while (i < len(Str1)):\n",
    "    if(Str1[i] not in Str2):\n",
    "        Str2 = Str2 + Str1[i]\n",
    "    i += 1\n",
    "print(\"Your Compressed String : \" , Str2)"
   ]
  },
  {
   "cell_type": "code",
   "execution_count": 9,
   "metadata": {},
   "outputs": [
    {
     "name": "stdin",
     "output_type": "stream",
     "text": [
      "Your String :  Priya\n"
     ]
    },
    {
     "name": "stdout",
     "output_type": "stream",
     "text": [
      "String has all unique characters\n"
     ]
    }
   ],
   "source": [
    "# 7 . Write a code to determine if a string has all unique characters ?\n",
    "Str1 = input(\"Your String : \")\n",
    "Str2 = \"\"\n",
    "i = 0\n",
    "while (i < len(Str1)):\n",
    "    if(Str1[i] not in Str2):\n",
    "        Str2 = Str2 + Str1[i]\n",
    "    else:\n",
    "        break\n",
    "    i += 1\n",
    "if(Str1 == Str2):\n",
    "    print(\"String has all unique characters\")\n",
    "else:\n",
    "    print(\"String has not all unique characters\")"
   ]
  },
  {
   "cell_type": "code",
   "execution_count": 10,
   "metadata": {},
   "outputs": [
    {
     "name": "stdin",
     "output_type": "stream",
     "text": [
      "Your Name :  Priyansu\n"
     ]
    },
    {
     "name": "stdout",
     "output_type": "stream",
     "text": [
      "Your name in \n",
      "All Capital :  PRIYANSU \n",
      "All Small : priyansu\n"
     ]
    }
   ],
   "source": [
    "# 8 . Write a code to convert a given string to uppercase or lowercase ?\n",
    "Str1 = input(\"Your Name : \")\n",
    "print(\"Your name in\" , \"\\nAll Capital : \" , Str1.upper() , \"\\nAll Small :\" , Str1.lower())"
   ]
  },
  {
   "cell_type": "code",
   "execution_count": 11,
   "metadata": {},
   "outputs": [
    {
     "name": "stdin",
     "output_type": "stream",
     "text": [
      "Your String :  Elephant\n"
     ]
    },
    {
     "name": "stdout",
     "output_type": "stream",
     "text": [
      "7\n"
     ]
    }
   ],
   "source": [
    "# 9 . write a code to count number of words in a string ?\n",
    "Str1 = input(\"Your String : \")\n",
    "Str2 = \"\"\n",
    "i = 0\n",
    "count = 0\n",
    "while (i < len(Str1)):\n",
    "    if(Str1[i] not in Str2.lower()):\n",
    "        Str2 = Str2 + Str1[i].lower()\n",
    "        count += 1\n",
    "    i += 1\n",
    "print(count)"
   ]
  },
  {
   "cell_type": "code",
   "execution_count": 12,
   "metadata": {},
   "outputs": [
    {
     "name": "stdin",
     "output_type": "stream",
     "text": [
      "Your Str1 :  123\n",
      "Your Str2 :  456\n"
     ]
    },
    {
     "name": "stdout",
     "output_type": "stream",
     "text": [
      "Your Concatinated Str : 123456\n"
     ]
    }
   ],
   "source": [
    "# 10 . Write a code to concatenate two strings without using + operator ?\n",
    "Str1 = input(\"Your Str1 : \")\n",
    "Str2 = input(\"Your Str2 : \")\n",
    "print(\"Your Concatinated Str :\" , f\"{Str1}{Str2}\")"
   ]
  },
  {
   "cell_type": "code",
   "execution_count": 13,
   "metadata": {},
   "outputs": [
    {
     "data": {
      "text/plain": [
       "['Apple', 'Potato']"
      ]
     },
     "execution_count": 13,
     "metadata": {},
     "output_type": "execute_result"
    }
   ],
   "source": [
    "# 11 Write code to remove all occurrences of a specific element from a list >\n",
    "Grocery = [\"Apple\" , \"Tea\" , \"Potato\" , \"Tea\"]\n",
    "i = 0\n",
    "while(i < len(Grocery)):\n",
    "    if (Grocery[i] == \"Tea\"):\n",
    "        Grocery.remove(Grocery[i])\n",
    "    i += 1\n",
    "Grocery"
   ]
  },
  {
   "cell_type": "code",
   "execution_count": 14,
   "metadata": {},
   "outputs": [
    {
     "data": {
      "text/plain": [
       "67"
      ]
     },
     "execution_count": 14,
     "metadata": {},
     "output_type": "execute_result"
    }
   ],
   "source": [
    "# 12. Implement a code to find the second largest integer in a given list of integers ?\n",
    "Numbers = [34 , 56 , 10 , 23 , 134 , 67]\n",
    "Sorted_No = sorted(Numbers)\n",
    "Sorted_No[-2]"
   ]
  },
  {
   "cell_type": "code",
   "execution_count": 16,
   "metadata": {},
   "outputs": [
    {
     "name": "stdin",
     "output_type": "stream",
     "text": [
      "Enter the Numbers of the list using commas:  45,60,89,67,45,89\n"
     ]
    },
    {
     "name": "stdout",
     "output_type": "stream",
     "text": [
      "Number counts: {'45': 2, '60': 1, '89': 2, '67': 1}\n"
     ]
    }
   ],
   "source": [
    "# 13. Create a code to count the occurences of each element in a list and return a dictionary with elements as keys and their counts as values ?\n",
    "my_list = input(\"Enter the Numbers of the list using commas: \").split(',')\n",
    "count = {}\n",
    "for no in my_list:\n",
    "    if no in count:\n",
    "        count[no] += 1\n",
    "    else:\n",
    "        count[no] = 1\n",
    "print(\"Number counts:\", count)"
   ]
  },
  {
   "cell_type": "code",
   "execution_count": 17,
   "metadata": {},
   "outputs": [
    {
     "name": "stdin",
     "output_type": "stream",
     "text": [
      "Enter your No of list using space :  35 78 90 67 45 35\n"
     ]
    },
    {
     "name": "stdout",
     "output_type": "stream",
     "text": [
      "['35', '45', '67', '90', '78', '35']\n"
     ]
    }
   ],
   "source": [
    "# 14. write a code to reverse a list in-place without using any built-in reverse functions ?\n",
    "my_list = input(\"Enter your No of list using space : \").split(' ')\n",
    "Element = 0\n",
    "while(Element < len(my_list)/2):\n",
    "    no = my_list[Element]\n",
    "    my_list[Element] = my_list[len(my_list)-1-Element]\n",
    "    my_list[len(my_list)-1-Element] = no\n",
    "    Element += 1\n",
    "print(my_list)"
   ]
  },
  {
   "cell_type": "code",
   "execution_count": 18,
   "metadata": {},
   "outputs": [
    {
     "name": "stdin",
     "output_type": "stream",
     "text": [
      "Enter the Elements of the list using commas:  45,89,90,67,90\n"
     ]
    },
    {
     "name": "stdout",
     "output_type": "stream",
     "text": [
      "['45', '89', '67', '90']\n"
     ]
    }
   ],
   "source": [
    "# 15. Implement a code to find and remove duplicates from a list while preserving the original order of elements ?\n",
    "my_list = input(\"Enter the Elements of the list using commas: \").split(',')\n",
    "Element = 0\n",
    "while(Element < len(my_list)):\n",
    "    if(my_list.count(my_list[Element]) > 1):\n",
    "        my_list.remove(my_list[Element])\n",
    "    Element += 1\n",
    "print(my_list)"
   ]
  },
  {
   "cell_type": "code",
   "execution_count": null,
   "metadata": {},
   "outputs": [],
   "source": []
  }
 ],
 "metadata": {
  "kernelspec": {
   "display_name": "Python 3 (ipykernel)",
   "language": "python",
   "name": "python3"
  },
  "language_info": {
   "codemirror_mode": {
    "name": "ipython",
    "version": 3
   },
   "file_extension": ".py",
   "mimetype": "text/x-python",
   "name": "python",
   "nbconvert_exporter": "python",
   "pygments_lexer": "ipython3",
   "version": "3.10.8"
  }
 },
 "nbformat": 4,
 "nbformat_minor": 4
}
